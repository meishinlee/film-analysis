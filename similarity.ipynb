{
 "cells": [
  {
   "cell_type": "code",
   "metadata": {
    "tags": [],
    "cell_id": "4a4176dd-cc77-4f74-8f43-c98964902b1d",
    "deepnote_to_be_reexecuted": false,
    "source_hash": "5e024012",
    "execution_start": 1655038442604,
    "execution_millis": 2791,
    "deepnote_cell_type": "code",
    "deepnote_cell_height": 279
   },
   "source": "import pandas as pd \nimport nltk\nimport numpy as np\nimport string\nimport re\nfrom nltk.tokenize import word_tokenize\nfrom nltk.corpus import stopwords\nfrom nltk.stem import WordNetLemmatizer\nfrom sklearn.feature_extraction.text import TfidfVectorizer\nfrom sklearn.decomposition import NMF\nfrom sklearn.metrics.pairwise import linear_kernel\nfrom queue import PriorityQueue as pq",
   "outputs": [],
   "execution_count": null
  },
  {
   "cell_type": "code",
   "metadata": {
    "cell_id": "2799f289f834488b8e44330edfbd2a7d",
    "tags": [],
    "deepnote_to_be_reexecuted": false,
    "source_hash": "72a2e6f0",
    "execution_start": 1655038445411,
    "execution_millis": 12,
    "deepnote_cell_type": "code",
    "deepnote_cell_height": 261
   },
   "source": "# 1: Title\n# 2: Release Year \n# 3: Genre\n# 4: Duration\n# 6: Critics\n# 7: Public \n# 8: Description\n# 9: Notes \n# 15: Rating ; Pg13\n# 16: Listed In\n# 17: Description",
   "outputs": [],
   "execution_count": null
  },
  {
   "cell_type": "code",
   "metadata": {
    "cell_id": "99826353407b44c898a85c66d953f45c",
    "tags": [],
    "deepnote_to_be_reexecuted": false,
    "source_hash": "9ad5828d",
    "execution_start": 1655038445437,
    "execution_millis": 74,
    "deepnote_cell_type": "code",
    "deepnote_cell_height": 423
   },
   "source": "text = open(\"review_ratings.csv\")\noutput = open(\"res.txt\",\"w\")\n# print(text)\ntext.readline() # remove header\nfor row in text: \n    row_details = row.split('^')\n    title, year, genre, duration = row_details[1].strip(' ,\"\\''), row_details[2].strip(' ,\"\\''), row_details[3].strip(' ,\"\\''), row_details[4].strip(' ,\"\\'')\n    critic_rate, pub_rate = row_details[6].strip(' ,\"\\''), row_details[7].strip(' ,\"\\'')\n    desc, notes, listed_in, comment = row_details[8].strip(' ,\"\\''),row_details[9].strip(' ,\"\\''),row_details[16].strip(' ,\"\\''),row_details[17].strip(' ,\"\\'')\n    alpha_rate = row_details[16].strip(' ,\"\\'')\n\n    \n    combined_desc = desc+' '+ notes+' '+listed_in+' ' +comment+' ' +title+' '+genre\n    formatted_str = title+'\\t'+str(year)+('\\t')+str(critic_rate)+'\\t'+str(pub_rate)+'\\t'+combined_desc+'\\n'\n    output.write(formatted_str)\n    # print(desc)\n\noutput.close()\ntext.close()\n",
   "outputs": [],
   "execution_count": null
  },
  {
   "cell_type": "code",
   "metadata": {
    "cell_id": "9d1e5c1a101e4cbc838498aa87b8e749",
    "tags": [],
    "deepnote_to_be_reexecuted": false,
    "source_hash": "2e7feb1e",
    "execution_start": 1655038445544,
    "execution_millis": 692,
    "deepnote_cell_type": "code",
    "deepnote_cell_height": 603
   },
   "source": "punc = string.punctuation\nfilms = {}\ntext = open(\"review_ratings.csv\")\n# print(text)\ntext.readline() # remove header\nfor row in text: \n    row_details = row.split('^')\n    title, year, genre, duration = row_details[1].strip(' ,\"\\''), row_details[2].strip(' ,\"\\''), row_details[3].strip(' ,\"\\''), row_details[4].strip(' ,\"\\'')\n    critic_rate, pub_rate = row_details[6].strip(' ,\"\\''), row_details[7].strip(' ,\"\\'')\n    desc, notes, listed_in, comment = row_details[8].strip(' ,\"\\''),row_details[9].strip(' ,\"\\''),row_details[16].strip(' ,\"\\''),row_details[17].strip(' ,\"\\'')\n    alpha_rate = row_details[16].strip(' ,\"\\'')\n\n    combined_desc = desc+' '+ notes+' '+listed_in+' ' +comment+' ' +title+' '+genre\n\n    valid_words = \"\"\n    for word in combined_desc: \n        if word == \" \": \n            valid_words += word\n        elif word in punc: \n            pass \n        elif word.isalpha() == False: \n            pass\n        else: \n            valid_words += word \n    films[(title, year)] = valid_words\n            \n    # formatted_str = title+'\\t'+str(year)+('\\t')+str(critic_rate)+'\\t'+str(pub_rate)+'\\t'+combined_desc+'\\n'\n\ntext.close()\n# films",
   "outputs": [],
   "execution_count": null
  },
  {
   "cell_type": "code",
   "metadata": {
    "cell_id": "41c2dfcfbff043b5a335f673403dcc9d",
    "tags": [],
    "deepnote_to_be_reexecuted": false,
    "source_hash": "d01b7647",
    "execution_start": 1655038446311,
    "execution_millis": 93,
    "deepnote_cell_type": "code",
    "deepnote_cell_height": 724
   },
   "source": "print(\"There are\",len(films),\"films in this dataset\")\nfilms_df = pd.DataFrame.from_dict(films,orient=\"index\")\nfilms_df.columns = ['desc']\nfilms_df",
   "outputs": [
    {
     "name": "stdout",
     "text": "There are 846 films in this dataset\n",
     "output_type": "stream"
    },
    {
     "output_type": "execute_result",
     "execution_count": 5,
     "data": {
      "application/vnd.deepnote.dataframe.v3+json": {
       "column_count": 1,
       "row_count": 846,
       "columns": [
        {
         "name": "desc",
         "dtype": "object",
         "stats": {
          "unique_count": 846,
          "nan_count": 0,
          "categories": [
           {
            "name": "A widow after an unfortunate marriage Alice together with her son Tom sets out on a journey to Monterey her hometown Along the way mother and son stop in Albuquerque where the woman is hired as a singer in a motel Here Alice has a love affair with a married man which ends up in a barrel Resuming the journey the two stop again to raise money Alice gets hired by a restaurant Here too a man appears but Tom strongly opposes this relationship A young but already biting Scorsese offers us this chronicle of frustrated people of the American dream devoted to a mediocre life An Oscar to the good Ellen Burstyn The film gave birth obviously more sweetened the TV series Alice Classic Movies Comedies Dramas A widowed singer and single mother starts over as a diner waitress in Arizona befriending her coworkers and romancing a ruggedly handsome rancher Alice Doesnt Live Here Anymore Drama",
            "count": 1
           },
           {
            "name": "Two former comrades who have set up a variety company are hired for the Christmas party at the Snow Paradise a mountain hotel that is deserted because there is no  snow The hotel belongs to their old general who is now on the verge of bankruptcy In the name of the ancient camaraderie the two put themselves together and the party is a triumph In addition there is also snow and  love Beautiful songs by Irving Berlin including What Can You Do With a General and The Best Things Happen While Youre Dancing It was the first film to be shot on vistavision Great protagonists Children  Family Movies Classic Movies Comedies Two war buddies fall for two sisters and follow the girls to a resort owned by their former commanding officer who is in danger of losing the place White Christmas Musical",
            "count": 1
           },
           {
            "name": "844 others",
            "count": 844
           }
          ]
         }
        },
        {
         "name": "_deepnote_index_column",
         "dtype": "object"
        }
       ],
       "rows": [
        {
         "desc": "A widow after an unfortunate marriage Alice together with her son Tom sets out on a journey to Monterey her hometown Along the way mother and son stop in Albuquerque where the woman is hired as a singer in a motel Here Alice has a love affair with a married man which ends up in a barrel Resuming the journey the two stop again to raise money Alice gets hired by a restaurant Here too a man appears but Tom strongly opposes this relationship A young but already biting Scorsese offers us this chronicle of frustrated people of the American dream devoted to a mediocre life An Oscar to the good Ellen Burstyn The film gave birth obviously more sweetened the TV series Alice Classic Movies Comedies Dramas A widowed singer and single mother starts over as a diner waitress in Arizona befriending her coworkers and romancing a ruggedly handsome rancher Alice Doesnt Live Here Anymore Drama",
         "_deepnote_index_column": "(\"Alice Doesn't Live Here Anymore\", '1974')"
        },
        {
         "desc": "Two former comrades who have set up a variety company are hired for the Christmas party at the Snow Paradise a mountain hotel that is deserted because there is no  snow The hotel belongs to their old general who is now on the verge of bankruptcy In the name of the ancient camaraderie the two put themselves together and the party is a triumph In addition there is also snow and  love Beautiful songs by Irving Berlin including What Can You Do With a General and The Best Things Happen While Youre Dancing It was the first film to be shot on vistavision Great protagonists Children  Family Movies Classic Movies Comedies Two war buddies fall for two sisters and follow the girls to a resort owned by their former commanding officer who is in danger of losing the place White Christmas Musical",
         "_deepnote_index_column": "('White Christmas', '1954')"
        },
        {
         "desc": "Carrie Withe is a girl who received an obsessively religious upbringing from her mother Her first menstruation provokes the derision of her companions Only Sue regrets and convinces her boyfriend Tommy to accompany Carrie to the graduation party The two are elected queen of the evening but a mocking joke by the evil Chris unleashes the revenge of Carrie who in her transition to adolescence has acquired paranormal powers Then in the fire with which he punishes his mother Carrie also dies But thats not all  Clever horror film with a shocking ending that for years has been a model for anyone who practices this genre  Classic Movies Cult Movies Horror Movies An outcast teen with telekinetic ability lashes out with her deadly power when the high school in crowd torments her with a sick joke at the prom Carrie Horror",
         "_deepnote_index_column": "('Carrie', '1976')"
        },
        {
         "desc": "Cincinnati Kid is a young champion who is making a splash at the New Orleans gaming tables In the city there are no more opponents for him and the Kid is already thinking about moving when Lancey arrives This is an old fox universally recognized as the Number One and he came to town just to challenge Cincinnati Unleashed bets and unclean tinkering around the match The Kid is not in the best psychological conditions also due to a too complicated love life  Classic Movies Dramas In Depressionera New Orleans cocksure stud poker player Eric Stoner  the titular Cincinnati Kid  challenges longtime champ Lancey The Man Howard to a showdown at the table where a war of wills  and nerve  ensues The Cincinnati Kid Comedy",
         "_deepnote_index_column": "('The Cincinnati Kid', '1965')"
        },
        {
         "desc": "Jake Tremont Lemmon lives with his wife away from his son who is a stockbroker on Wall Street When the son returns home for a visit he discovers that the father has a tumor He then begins to care for him lovingly discovering aspects of life that up to that moment he was completely unaware of In fact man lives in a dream dimension he thinks he lives on a farm as if to redeem the grayness of everyday life After a long illness Jake dies his wife son and grandson are about to face a different and more human life in memory of his father After the s films of good feelings return to the United States In this case the theme a bit obvious and sometimes boring is redeemed by the excellent interpretation of Jack Lemmon Dramas Family bonds are revived after a father is diagnosed with cancer in this bittersweet drama Dutiful son John cares for his aging father Jake but not without complaint Dad Drama",
         "_deepnote_index_column": "('Dad', '1989')"
        },
        {
         "desc": "Gigi a pretty little provincial girl lives with her grandmother and an aunt in Paris They hope that the little one will become a luxury socialite They also set their sights on the possible protector the very wealthy Gaston Lachaille Gaston however being truly in love with Gigi disdainfully refuses The same girl revealing a strong character opposes the drawings of the two relatives In a delightful postcard Paris with a delightful Leslie Caron the songs of Lerner and Loewe and a sly Chevalier Oscar for Lifetime Achievement a sumptuous musical inspired by a Colette novel Nine Oscars Best Film Direction Screenplay Photography Costumes Music Song Set Design Editing  Classic Movies Comedies Music  Musicals Gigis an avantgarde French waif being groomed as the fille de joie of affluent and handsome Gaston Soon Gigi metamorphoses into a stunning beauty Gigi Musical",
         "_deepnote_index_column": "('Gigi', '1958')"
        },
        {
         "desc": "Young Jim Judy and Plato are accused of assaulting a man The next day Buzz and his friends challenge Jim to a dangerous race called the race of the rabbit running a car to a precipice and jumping out of the car as late as possible Its Buzz who dies and Jim takes refuge in an isolated house where Plato is also  The film scripted by Irving Shulman starting from an original story by Ray himself was the one that imposed James Dean as the myth of a restless and uprooted generation by definition A real classic that still excites today At least fifteen memorable scenes The photograph of the master Ernest Haller is splendid Classic Movies Dramas When Jim Stark arrives in a new town with his troubled past firmly in tow he quickly falls for the girl next door and befriends the vulnerable Plato Rebel Without a Cause Drama",
         "_deepnote_index_column": "('Rebel Without a Cause', '1955')"
        },
        {
         "desc": "During the school holidays Danny befriends Sandy an Australian girl To his surprise he finds her in his own college but feigns indifference because hes a real tough guy After a dance contest that Danny wins paired with another girl the two finally get together Now a cult movie That transcends the same aesthetic merits Better teenage musicals have been seen but the alchemy found by Kleiser on the set did indeed reward this fairy tale in time to the music Some hits will become famous Great Stockard Channing as the wild Rizzo Classic Movies Comedies Music  Musicals John Travolta and Olivia NewtonJohn star in this hit musical comedy about a greaser and the good girl he falls for  much to his friends chagrin Grease Comedy",
         "_deepnote_index_column": "('Grease', '1978')"
        },
        {
         "desc": "Vietnam  A group of recruits is trained by a gruff lieutenant to participate in the attack on Hill  The fighting begins and will last for ten days in a succession of assaults Encouraged by superiors who however do not offer adequate coverage the assaults continue only three will arrive at the summit Shortly after the hill having lost its strategic interest it will be abandoned Arrived in theaters on the long wave of films on the dirty war the film is a bit monotonous in its narrative structure and too demagogic in its antimilitarism Action  Adventure Dramas The Vietnam Wars horrors come brutally to life through the eyes of American soldiers trying to take a heavily fortified hill under Vietcong control Hamburger Hill War",
         "_deepnote_index_column": "('Hamburger Hill', '1987')"
        },
        {
         "desc": "Incredibly escaping death in the Himalayan mountains Jones the singer Willie and the little Chinese Short end up in an Indian village from which the followers of the goddess Kali have taken away a miraculous stone along with all the children Upon reaching the palace of Pencot our heroes discover the existence of an underground temple the site of horrific sacrifices and cover for the cruel exploitation of children used as slaves After the worldwide success of the Raiders of the Lost Ark Spielberg takes up the character of the adventurous archaeologist in  He is always able to exploit the space at his disposal in a dynamic and breathtaking way the sequence of the escape on the trolley through the mine tunnels is memorable Here however the insolent lightness in its artificiality is lacking a little which characterized the first episode and the game is a bit repetitive Action  Adventure Children  Family Movies Classic Movies Indiana Jones his young sidekick and a spoiled songbird get more…",
         "_deepnote_index_column": "('Indiana Jones and the Temple of Doom', '1984')"
        }
       ]
      },
      "text/plain": "                                                                                                 desc\n(Alice Doesn't Live Here Anymore, 1974)             A widow after an unfortunate marriage Alice to...\n(White Christmas, 1954)                             Two former comrades who have set up a variety ...\n(Carrie, 1976)                                      Carrie Withe is a girl who received an obsessi...\n(The Cincinnati Kid, 1965)                          Cincinnati Kid is a young champion who is maki...\n(Dad, 1989)                                         Jake Tremont Lemmon lives with his wife away f...\n...                                                                                               ...\n(Minimalism: A Documentary About the Important ...  How could our lives improve if we reduced the ...\n(Kis Kisko Pyaar Karoon, 2015)                      With his three different identities Shiv Ram a...\n(Deviant Love, 2019)                                Jamies married life falls apart when she finds...\n(Time Trap, 2018)                                   An archeology professor disappears after enter...\n(Ricky Gervais: Humanity, 2018)                     An hour and twenty of comic monologue by one o...\n\n[846 rows x 1 columns]",
      "text/html": "<div>\n<style scoped>\n    .dataframe tbody tr th:only-of-type {\n        vertical-align: middle;\n    }\n\n    .dataframe tbody tr th {\n        vertical-align: top;\n    }\n\n    .dataframe thead th {\n        text-align: right;\n    }\n</style>\n<table border=\"1\" class=\"dataframe\">\n  <thead>\n    <tr style=\"text-align: right;\">\n      <th></th>\n      <th>desc</th>\n    </tr>\n  </thead>\n  <tbody>\n    <tr>\n      <th>(Alice Doesn't Live Here Anymore, 1974)</th>\n      <td>A widow after an unfortunate marriage Alice to...</td>\n    </tr>\n    <tr>\n      <th>(White Christmas, 1954)</th>\n      <td>Two former comrades who have set up a variety ...</td>\n    </tr>\n    <tr>\n      <th>(Carrie, 1976)</th>\n      <td>Carrie Withe is a girl who received an obsessi...</td>\n    </tr>\n    <tr>\n      <th>(The Cincinnati Kid, 1965)</th>\n      <td>Cincinnati Kid is a young champion who is maki...</td>\n    </tr>\n    <tr>\n      <th>(Dad, 1989)</th>\n      <td>Jake Tremont Lemmon lives with his wife away f...</td>\n    </tr>\n    <tr>\n      <th>...</th>\n      <td>...</td>\n    </tr>\n    <tr>\n      <th>(Minimalism: A Documentary About the Important Things, 2016)</th>\n      <td>How could our lives improve if we reduced the ...</td>\n    </tr>\n    <tr>\n      <th>(Kis Kisko Pyaar Karoon, 2015)</th>\n      <td>With his three different identities Shiv Ram a...</td>\n    </tr>\n    <tr>\n      <th>(Deviant Love, 2019)</th>\n      <td>Jamies married life falls apart when she finds...</td>\n    </tr>\n    <tr>\n      <th>(Time Trap, 2018)</th>\n      <td>An archeology professor disappears after enter...</td>\n    </tr>\n    <tr>\n      <th>(Ricky Gervais: Humanity, 2018)</th>\n      <td>An hour and twenty of comic monologue by one o...</td>\n    </tr>\n  </tbody>\n</table>\n<p>846 rows × 1 columns</p>\n</div>"
     },
     "metadata": {}
    }
   ],
   "execution_count": null
  },
  {
   "cell_type": "code",
   "metadata": {
    "cell_id": "977a6afe25824be695c37b187ae99cab",
    "tags": [],
    "deepnote_to_be_reexecuted": false,
    "source_hash": "86a3087c",
    "execution_start": 1655038446468,
    "execution_millis": 0,
    "deepnote_cell_type": "code",
    "deepnote_cell_height": 171
   },
   "source": "# Remove line breaks \ndef remove_linebreaks(input):\n    text = re.compile(r'\\n')\n    return text.sub(r' ',input)\n\nfilms_df[\"desc\"] = films_df[\"desc\"].apply(remove_linebreaks)",
   "outputs": [],
   "execution_count": null
  },
  {
   "cell_type": "code",
   "metadata": {
    "cell_id": "7ffd9621d592436aae94c74c40a612e8",
    "tags": [],
    "deepnote_to_be_reexecuted": false,
    "source_hash": "c3d9e8cf",
    "execution_start": 1655038446468,
    "execution_millis": 1827,
    "deepnote_cell_type": "code",
    "deepnote_cell_height": 172.796875
   },
   "source": "# Tokenize words \nnltk.download('punkt')\nfilms_df[\"desc\"] = films_df[\"desc\"].apply(word_tokenize)",
   "outputs": [
    {
     "name": "stderr",
     "text": "[nltk_data] Downloading package punkt to /root/nltk_data...\n[nltk_data]   Unzipping tokenizers/punkt.zip.\n",
     "output_type": "stream"
    }
   ],
   "execution_count": null
  },
  {
   "cell_type": "code",
   "metadata": {
    "cell_id": "cc4a875994c74de39ec579dbdc610b02",
    "tags": [],
    "deepnote_to_be_reexecuted": false,
    "source_hash": "234bf7c7",
    "execution_start": 1655038448341,
    "execution_millis": 30283,
    "deepnote_cell_type": "code",
    "deepnote_cell_height": 280.796875
   },
   "source": "# Remove stopwords\nnltk.download('stopwords')\ndef remove_stopwords(input1):\n    words = []\n    for word in input1:\n        if word not in stopwords.words('english'):\n            words.append(word)\n    return words\nfilms_df[\"desc\"] = films_df[\"desc\"].apply(remove_stopwords)",
   "outputs": [
    {
     "name": "stderr",
     "text": "[nltk_data] Downloading package stopwords to /root/nltk_data...\n[nltk_data]   Unzipping corpora/stopwords.zip.\n",
     "output_type": "stream"
    }
   ],
   "execution_count": null
  },
  {
   "cell_type": "code",
   "metadata": {
    "cell_id": "247bf47550d349e1ab6a4c705c72a8cc",
    "tags": [],
    "deepnote_to_be_reexecuted": false,
    "source_hash": "82fa358b",
    "execution_start": 1655038478624,
    "execution_millis": 7508,
    "deepnote_cell_type": "code",
    "deepnote_cell_height": 284.796875
   },
   "source": "# Lemmatization\nnltk.download('wordnet')\nnltk.download('omw-1.4')\nlem = WordNetLemmatizer()\ndef lemma_wordnet(input):\n    return [lem.lemmatize(w) for w in input]\nfilms_df[\"desc\"] = films_df[\"desc\"].apply(lemma_wordnet)",
   "outputs": [
    {
     "name": "stderr",
     "text": "[nltk_data] Downloading package wordnet to /root/nltk_data...\n[nltk_data]   Unzipping corpora/wordnet.zip.\n[nltk_data] Downloading package omw-1.4 to /root/nltk_data...\n[nltk_data]   Unzipping corpora/omw-1.4.zip.\n",
     "output_type": "stream"
    }
   ],
   "execution_count": null
  },
  {
   "cell_type": "code",
   "metadata": {
    "cell_id": "c5d80f81e9ea4071a64919d918da8101",
    "tags": [],
    "deepnote_to_be_reexecuted": false,
    "source_hash": "19e3caf0",
    "execution_start": 1655038486164,
    "execution_millis": 1,
    "deepnote_cell_type": "code",
    "deepnote_cell_height": 135
   },
   "source": "def combine_text(input):\n    combined = ' '.join(input)\n    return combined\nfilms_df[\"desc\"] = films_df[\"desc\"].apply(combine_text)",
   "outputs": [],
   "execution_count": null
  },
  {
   "cell_type": "code",
   "metadata": {
    "cell_id": "4d362c8bc6f8499cba7cc565219c0d0d",
    "tags": [],
    "deepnote_to_be_reexecuted": false,
    "source_hash": "9f743edd",
    "execution_start": 1655038486199,
    "execution_millis": 710,
    "deepnote_cell_type": "code",
    "deepnote_cell_height": 244.796875
   },
   "source": "# Train a TF-IDF vectorizer \nvectorizer = TfidfVectorizer(max_features=1800, lowercase=True, stop_words='english', ngram_range=(1,2)) #unigrams and bigrams\n\n# features \ntf_idf_output = vectorizer.fit_transform(films_df[\"desc\"])\nvocab = np.array(vectorizer.get_feature_names())\n",
   "outputs": [
    {
     "name": "stderr",
     "text": "/shared-libs/python3.9/py/lib/python3.9/site-packages/sklearn/utils/deprecation.py:87: FutureWarning: Function get_feature_names is deprecated; get_feature_names is deprecated in 1.0 and will be removed in 1.2. Please use get_feature_names_out instead.\n  warnings.warn(msg, category=FutureWarning)\n",
     "output_type": "stream"
    }
   ],
   "execution_count": null
  },
  {
   "cell_type": "code",
   "metadata": {
    "cell_id": "865c03ce9aa74df5a353a9ee86dca16d",
    "deepnote_variable_name": "input_keywords",
    "deepnote_variable_value": "boy romance girl crush love",
    "deepnote_to_be_reexecuted": false,
    "source_hash": "623648bf",
    "execution_start": 1655038486940,
    "execution_millis": 2,
    "deepnote_cell_type": "input-text"
   },
   "source": "input_keywords = 'boy romance girl crush love'",
   "outputs": [],
   "execution_count": null
  },
  {
   "cell_type": "code",
   "metadata": {
    "cell_id": "db601bac3b2b4dc0879f567ba88a9a3c",
    "tags": [],
    "deepnote_to_be_reexecuted": false,
    "source_hash": "804aaf50",
    "execution_start": 1655038487022,
    "execution_millis": 26320904,
    "deepnote_cell_type": "code",
    "deepnote_cell_height": 207
   },
   "source": "# # in input_keywords, separated by spaces, type in a few keywords about the movie you'd like to watch\n# # and from our database, we'd recommend you one! \n# input_keyword = \"boy romance girl crush love\"\n# input_keywords = input_keyword.split() + words_string.split()\n# tf_idf_input_keywords = vectorizer.fit_transform(input_keywords)\n# # print(tf_idf_input_keywords)\n# cosine_similarities = linear_kernel(tf_idf_output, tf_idf_input_keywords)\n# print(m(cosine_similarities))",
   "outputs": [],
   "execution_count": null
  },
  {
   "cell_type": "markdown",
   "source": "# NMF",
   "metadata": {
    "cell_id": "397770c1e5464422974a63340513815c",
    "tags": [],
    "deepnote_cell_type": "markdown",
    "deepnote_cell_height": 61.1875
   }
  },
  {
   "cell_type": "code",
   "metadata": {
    "cell_id": "699992e98c394a3e9a50b71fbb1719be",
    "deepnote_variable_name": "num_topics",
    "deepnote_variable_value": "50",
    "deepnote_to_be_reexecuted": false,
    "source_hash": "f4f9d83",
    "execution_start": 1655038487071,
    "execution_millis": 25557456,
    "deepnote_cell_type": "input-text"
   },
   "source": "num_topics = '50'",
   "outputs": [],
   "execution_count": null
  },
  {
   "cell_type": "code",
   "metadata": {
    "cell_id": "9e12d5a54a1f4e128d62d578a911303c",
    "tags": [],
    "deepnote_to_be_reexecuted": false,
    "source_hash": "96961c9",
    "execution_start": 1655038487106,
    "execution_millis": 4841,
    "deepnote_cell_type": "code",
    "deepnote_cell_height": 135
   },
   "source": "num_topics = int(num_topics)\nnmf = NMF(n_components = num_topics, solver = \"mu\").fit(tf_idf_output)\nW = nmf.fit_transform(tf_idf_output)\nH = nmf.components_",
   "outputs": [],
   "execution_count": null
  },
  {
   "cell_type": "code",
   "metadata": {
    "cell_id": "8cccc1ac3c06431690eb6c53027e60b4",
    "deepnote_variable_name": "num_top_words",
    "deepnote_variable_value": "20",
    "deepnote_to_be_reexecuted": false,
    "source_hash": "df79d908",
    "execution_start": 1655038491968,
    "execution_millis": 27,
    "deepnote_cell_type": "input-text"
   },
   "source": "num_top_words = '20'",
   "outputs": [],
   "execution_count": null
  },
  {
   "cell_type": "code",
   "metadata": {
    "cell_id": "086ac57afac6458a823add9313898914",
    "tags": [],
    "deepnote_to_be_reexecuted": false,
    "source_hash": "3857fe48",
    "execution_start": 1655038492036,
    "execution_millis": 18375025,
    "deepnote_cell_type": "code",
    "deepnote_cell_height": 153
   },
   "source": "num_top_words = int(num_top_words)\ndef show_topics(a):\n    top_words = lambda t: [vocab[i] for i in np.argsort(t)[:-num_top_words-1:-1]]\n    topic_words = ([top_words(t) for t in a])\n    return [' '.join(t) for t in topic_words]",
   "outputs": [],
   "execution_count": null
  },
  {
   "cell_type": "code",
   "metadata": {
    "cell_id": "9684db534f3a4a8a9af0af7aa103bd42",
    "tags": [],
    "deepnote_to_be_reexecuted": false,
    "source_hash": "9ec61787",
    "execution_start": 1655038492061,
    "execution_millis": 60,
    "deepnote_cell_type": "code",
    "deepnote_cell_height": 863
   },
   "source": "topics = show_topics(H)\ni = 1\n\ntopics_set_list = []\nfor row in topics: \n    topic = row.split()\n    print(\"Topic\",i,\":\",set(topic))\n    topics_set_list.append(set(topic))\n    i += 1\n",
   "outputs": [
    {
     "name": "stdout",
     "text": "Topic 1 : {'trip', 'hope', 'troubled', 'international', 'relationship', 'romantic', 'run', 'movies', 'middleaged', 'dramas', 'path', 'day', 'comedies', 'independent', 'past', 'drama', 'face'}\nTopic 2 : {'adventure', 'action', 'dramas', 'revenge', 'village', 'team', 'force', 'international', 'stop', 'epic', 'mission', 'explosive', 'arm', 'hunter', 'commander', 'scifi', 'battle', 'comedies', 'thor'}\nTopic 3 : {'thrillers', 'evil', 'house', 'remote', 'monster', 'international', 'group', 'forest', 'movies', 'independent', 'cult', 'anthology', 'terrible', 'comedies', 'begin', 'horror', 'patient', 'haunt'}\nTopic 4 : {'comedy', 'birthday', 'little', 'dj', 'friend', 'dramas', 'dating', 'feeling', 'best', 'success', 'harper', 'invite', 'crazy', 'romantic', 'business', 'trying', 'spend', 'comedies', 'end'}\nTopic 5 : {'dog', 'build', 'little', 'like', 'family', 'new', 'movies', 'children', 'animation', 'child', 'world', 'comedies', 'save', 'parent', 'dramas', 'boy', 'yearold'}\nTopic 6 : {'story', 'legendary', 'intimate', 'director', 'international', 'unpublished', 'community', 'history', 'filmmaker', 'documentaries', 'world', 'rise', 'documentary', 'film', 'porn', 'portrait', 'interview', 'shot', 'italian'}\nTopic 7 : {'thrillers', 'humanity', 'adventure', 'black', 'invasion', 'dramas', 'human', 'reality', 'survivor', 'planet', 'movies', 'earth', 'matrix', 'alien', 'fantasy', 'world', 'future', 'scifi', 'time'}\nTopic 8 : {'student', 'return', 'old', 'alex', 'teenager', 'crush', 'teen', 'movies', 'plan', 'teacher', 'knight', 'school', 'teenage', 'secret', 'hometown', 'sports', 'high', 'boy', 'girl'}\nTopic 9 : {'dream', 'film', 'cocaine', 'manages', 'blue', 'billionaire', 'city', 'ruth', 'alex', 'new', 'amsterdam', 'built', 'violent', 'actress', 'race', 'dancer', 'radio', 'york'}\nTopic 10 : {'thrillers', 'house', 'old', 'thriller', 'dramas', 'home', 'dark', 'husband', 'movies', 'case', 'patient', 'past', 'ghost', 'bad', 'secret', 'truth', 'sinister', 'crime', 'accident'}\nTopic 11 : {'chuck', 'boxer', 'film', 'second', 'creed', 'rocky', 'champion', 'movies', 'ring', 'dramas', 'match', 'end', 'fighter', 'apollo', 'sports', 'balboa', 'drama', 'direction'}\nTopic 12 : {'dream', 'love', 'young', 'experience', 'relationship', 'photographer', 'year', 'movies', 'perfect', 'dramas', 'dating', 'comedies', 'day', 'romance', 'future', 'romantic', 'falling'}\nTopic 13 : {'true', 'film', 'based', 'focus', 'writer', 'journalist', 'cost', 'story', 'reporter', 'robert', 'dramas', 'michael', 'biography', 'encounter', 'inspired', 'book'}\nTopic 14 : {'lawyer', 'cruise', 'family', 'week', 'dramas', 'home', 'teenager', 'father', 'dad', 'dancer', 'care', 'yearold', 'life', 'estranged', 'parent', 'son', 'watch', 'boy', 'actor', 'drama'}\nTopic 15 : {'thrillers', 'farmer', 'defend', 'love', 'adventure', 'battle', 'international', 'india', 'group', 'bos', 'female', 'movies', 'dramas', 'documentaries', 'comedies', 'lady', 'drama'}\nTopic 16 : {'begin', 'man', 'rain', 'survival', 'past', 'body', 'authority', 'life', 'relationship', 'suicide', 'way', 'run', 'dream', 'young', 'different', 'tom', 'marry', 'professor', 'live'}\nTopic 17 : {'nazi', 'film', 'prisoner', 'soldier', 'american', 'figure', 'spy', 'war', 'army', 'black', 'horse', 'ii', 'general', 'dramas', 'world', 'resistance', 'drama'}\nTopic 18 : {'single', 'mother', 'help', 'search', 'henry', 'husband', 'mom', 'year', 'conflict', 'struggle', 'home', 'wrong', 'clara', 'ray', 'paul', 'make', 'desperate', 'daughter'}\nTopic 19 : {'help', 'mother', 'pretend', 'curse', 'farmhouse', 'woman', 'country', 'single', 'stop', 'peaceful', 'mysterious', 'female', 'baby', 'veronica', 'young', 'want', 'stranger', 'violence', 'girl'}\nTopic 20 : {'addiction', 'friend', 'meeting', 'reality', 'frank', 'american', 'money', 'plan', 'cocaine', 'kind', 'drug', 'corrupt', 'lord', 'african', 'dealing', 'time', 'dealer', 'river', 'place'}\nTopic 21 : {'musicals', 'biography', 'luck', 'success', 'movies', 'misfit', 'song', 'direction', 'tour', 'documentaries', 'south', 'concert', 'morgan', 'icon', 'musical', 'music', 'justin', 'singer', 'musician'}\nTopic 22 : {'charles', 'mother', 'frank', 'bar', 'born', 'surface', 'faith', 'return', 'old', 'brother', 'family', 'sister', 'kurt', 'revenge', 'home', 'visit', 'younger', 'sibling'}\nTopic 23 : {'despite', 'jay', 'sheriff', 'holly', 'town', 'small', 'rock', 'medium', 'pop', 'car', 'run', 'soon', 'vincent', 'discover', 'mysterious', 'bond', 'tourist', 'local'}\nTopic 24 : {'life', 'zach', 'away', 'jake', 'writer', 'chronicle', 'change', 'problem', 'new', 'drama', 'existence', 'strong', 'day', 'successful', 'moment', 'work', 'live'}\nTopic 25 : {'comedy', 'travel', 'dramas', 'buddy', 'manager', 'job', 'luck', 'decides', 'star', 'retirement', 'client', 'talent', 'television', 'series', 'dream', 'comic', 'moving', 'time', 'comedies', 'make'}\nTopic 26 : {'martial', 'dragon', 'adventure', 'action', 'legendary', 'tiger', 'master', 'art', 'champion', 'fight', 'ancient', 'debt', 'work', 'li', 'film', 'young', 'warrior', 'expert', 'destiny'}\nTopic 27 : {'million', 'join', 'police', 'united', 'states', 'jackie', 'money', 'bank', 'sister', 'plan', 'wrong', 'raise', 'robbery', 'local', 'dollar', 'driver', 'attempt', 'sheriff', 'robber', 'heist'}\nTopic 28 : {'stuck', 'comedy', 'little', 'grinch', 'christmas', 'cindy', 'santa', 'going', 'sister', 'decides', 'eve', 'kate', 'cave', 'holiday', 'heart', 'snow', 'comedies', 'make', 'store'}\nTopic 29 : {'help', 'adventure', 'action', 'terrorist', 'identity', 'attacked', 'stumble', 'cia', 'hotel', 'brave', 'agent', 'secret', 'organization', 'fbi', 'work', 'series', 'far', 'investigation', 'comedies', 'tourist', 'special'}\nTopic 30 : {'lawyer', 'amsterdam', 'hit', 'frank', 'veteran', 'rome', 'like', 'complete', 'martin', 'decides', 'vegas', 'scorsese', 'danny', 'gang', 'ocean', 'las', 'want', 'cast', 'heist'}\nTopic 31 : {'india', 'wife', 'begin', 'jane', 'hour', 'ben', 'child', 'teacher', 'career', 'farmer', 'relationship', 'obsessed', 'dead', 'son', 'hill', 'far', 'murder', 'joe', 'stephen'}\nTopic 32 : {'club', 'student', 'university', 'surface', 'medium', 'vincent', 'teacher', 'school', 'cave', 'social', 'ambitious', 'study', 'law', 'arthur', 'stevens', 'time', 'want', 'professor', 'college'}\nTopic 33 : {'comedy', 'zach', 'water', 'coach', 'team', 'movies', 'success', 'capable', 'football', 'star', 'hockey', 'stand', 'sports', 'player', 'doesnt', 'blow', 'match', 'fan', 'comedies', 'college'}\nTopic 34 : {'critic', 'start', 'gangster', 'center', 'large', 'central', 'sam', 'money', 'care', 'remember', 'uncle', 'client', 'world', 'south', 'neighbor', 'push', 'taylor', 'angeles', 'los'}\nTopic 35 : {'comedy', 'film', 'young', 'carrie', 'american', 'party', 'time', 'movie', 'movies', 'classic', 'cult', 'set', 'comedies', 'day', 'marry', 'girl', 'college'}\nTopic 36 : {'weekend', 'comedy', 'opportunity', 'independent', 'bloody', 'movies', 'unexpected', 'kidnapping', 'arm', 'neighbor', 'couple', 'work', 'meet', 'business', 'turn', 'married', 'comedies', 'real', 'end'}\nTopic 37 : {'mother', 'death', 'divorce', 'decide', 'anna', 'missing', 'marriage', 'child', 'news', 'resistance', 'try', 'ghost', 'mark', 'couple', 'strange', 'son', 'time', 'berlin', 'station', 'drama'}\nTopic 38 : {'elliot', 'birthday', 'government', 'black', 'terrorist', 'game', 'begin', 'reality', 'know', 'car', 'mouse', 'hotel', 'debt', 'kept', 'taken', 'dont', 'video', 'player', 'cat', 'ralph'}\nTopic 39 : {'tour', 'wild', 'experiment', 'cruise', 'lgbtq', 'gay', 'activist', 'guest', 'movies', 'male', 'hour', 'michael', 'boy', 'head', 'yearold', 'follows', 'dancer', 'drama'}\nTopic 40 : {'hope', 'comedies', 'dramas', 'professional', 'stay', 'big', 'sport', 'movies', 'competition', 'area', 'national', 'africa', 'south', 'sports', 'world', 'park', 'hire', 'joe', 'amateur'}\nTopic 41 : {'adventure', 'little', 'india', 'extraordinary', 'spielberg', 'missing', 'exploit', 'middle', 'character', 'movies', 'indiana', 'jones', 'mountain', 'stone', 'search', 'bit', 'short', 'classic', 'set'}\nTopic 42 : {'dragon', 'england', 'adventure', 'king', 'army', 'court', 'palace', 'princess', 'richard', 'prince', 'kingdom', 'dy', 'heart', 'robert', 'twin', 'bruce', 'scifi', 'throne', 'chaos', 'murder', 'english'}\nTopic 43 : {'face', 'john', 'like', 'princess', 'fall', 'tim', 'look', 'way', 'guru', 'meet', 'rise', 'scientist', 'film', 'love', 'musical', 'beautiful', 'set', 'come', 'sexy'}\nTopic 44 : {'protection', 'released', 'doctor', 'jr', 'jail', 'male', 'charge', 'russell', 'prisoner', 'eric', 'bos', 'gang', 'thief', 'mobster', 'prison', 'guard', 'experiment', 'anger', 'forced', 'inmate'}\nTopic 45 : {'humanity', 'artificial', 'human', 'chinese', 'machine', 'simple', 'revealing', 'intelligence', 'computer', 'robot', 'ex', 'internet', 'world', 'create', 'work', 'experiment', 'company', 'win', 'paul'}\nTopic 46 : {'friendship', 'share', 'post', 'dramas', 'begin', 'tested', 'form', 'unlikely', 'military', 'unexpected', 'robot', 'end', 'bond', 'sent', 'young', 'camp', 'assigned', 'comedies', 'joy'}\nTopic 47 : {'abusive', 'police', 'track', 'pilot', 'shows', 'angels', 'infamous', 'hunt', 'kind', 'deep', 'fbi', 'series', 'crime', 'faced', 'public', 'reputation', 'new', 'set', 'tv'}\nTopic 48 : {'death', 'farmhouse', 'thriller', 'revenge', 'bird', 'assassin', 'killing', 'case', 'reveals', 'detective', 'whale', 'serial', 'truth', 'ruthless', 'crime', 'young', 'silence', 'people', 'killer'}\nTopic 49 : {'wild', 'adventure', 'gun', 'west', 'john', 'civil', 'american', 'bounty', 'frontier', 'jay', 'hunter', 'western', 'america', 'leader', 'gang', 'way', 'outlaw', 'war', 'forced'}\nTopic 50 : {'policeman', 'police', 'kidnapped', 'point', 'paul', 'eddie', 'detective', 'gang', 'way', 'crime', 'thing', 'guard', 'cop', 'city', 'criminal', 'hostage', 'witness', 'security', 'pregnant', 'room'}\n",
     "output_type": "stream"
    }
   ],
   "execution_count": null
  },
  {
   "cell_type": "code",
   "metadata": {
    "cell_id": "73a9f012c4be4948bb651d63c93f4c4b",
    "tags": [],
    "deepnote_to_be_reexecuted": false,
    "source_hash": "27718786",
    "execution_start": 1655038492180,
    "execution_millis": 45,
    "deepnote_cell_type": "code",
    "deepnote_cell_height": 153
   },
   "source": "def jaccard_distance(topic_set, desc_set):\n    intersect = len(topic_set.intersection(desc_set))\n    union = len(topic_set.union(desc_set))\n    return 1-intersect/union\n    # return len(topic_set.intersection(desc_set))",
   "outputs": [],
   "execution_count": null
  },
  {
   "cell_type": "code",
   "metadata": {
    "cell_id": "6ec489f797de48ee867f8b1df5be3789",
    "tags": [],
    "deepnote_to_be_reexecuted": false,
    "source_hash": "8bc2cb0f",
    "execution_start": 1655039613804,
    "execution_millis": 2,
    "owner_user_id": "3368d2ef-7e80-411c-933c-c0bf7e4e7d6b",
    "deepnote_cell_type": "code",
    "deepnote_cell_height": 314.796875
   },
   "source": "input_keyword = \"family children dog little build together\"\ninput_keywords_to_set = set(input_keyword.split())\nbest_topic_score = 1\nbest_topics = None\nfor topic in topics_set_list: \n    # print(topic, jaccard_distance(topic, input_keywords_to_set))\n    if jaccard_distance(topic, input_keywords_to_set) < best_topic_score: \n        # print(jaccard_distance(topic, input_keywords_to_set),best_topic_score)\n        best_topic_score = jaccard_distance(topic, input_keywords_to_set) \n        best_topics = topic\n\nprint(best_topics)",
   "outputs": [
    {
     "name": "stdout",
     "text": "{'dog', 'build', 'little', 'like', 'family', 'new', 'movies', 'children', 'animation', 'child', 'world', 'comedies', 'save', 'parent', 'dramas', 'boy', 'yearold'}\n",
     "output_type": "stream"
    }
   ],
   "execution_count": null
  },
  {
   "cell_type": "code",
   "metadata": {
    "cell_id": "4d3298793d0a4dbe8caa192ec3f9d957",
    "tags": [],
    "deepnote_to_be_reexecuted": false,
    "source_hash": "4075e402",
    "execution_start": 1655039617554,
    "execution_millis": 553,
    "owner_user_id": "0c71ee76-1fe3-470b-9d96-06b044c75ef5",
    "deepnote_cell_type": "code",
    "deepnote_cell_height": 390
   },
   "source": "pq_best_titles = pq()\n# max_d = 0\nfor k, v in films.items(): \n    jd = jaccard_distance(best_topics, set(v.split()))\n    pq_best_titles.put((jd, k))\n\nnum_recs = 0\nwhile pq_best_titles.empty() == False and num_recs < 5:\n    print(\"Title:\",pq_best_titles.get()[1][0],\"\\tRelease Year:\",pq_best_titles.get()[1][1])\n    num_recs += 1 \n\n    ",
   "outputs": [
    {
     "name": "stdout",
     "text": "Title: Extinction \tRelease Year: 2019\nTitle: Little Monsters \tRelease Year: 2017\nTitle: Before I Wake \tRelease Year: 2005\nTitle: Tarzan \tRelease Year: 2013\nTitle: Evan Almighty \tRelease Year: 2017\n",
     "output_type": "stream"
    }
   ],
   "execution_count": null
  },
  {
   "cell_type": "markdown",
   "source": "<a style='text-decoration:none;line-height:16px;display:flex;color:#5B5B62;padding:10px;justify-content:end;' href='https://deepnote.com?utm_source=created-in-deepnote-cell&projectId=21bf25da-b52d-4747-8ce6-0a60c023609b' target=\"_blank\">\n<img alt='Created in deepnote.com' style='display:inline;max-height:16px;margin:0px;margin-right:7.5px;' src='data:image/svg+xml;base64,PD94bWwgdmVyc2lvbj0iMS4wIiBlbmNvZGluZz0iVVRGLTgiPz4KPHN2ZyB3aWR0aD0iODBweCIgaGVpZ2h0PSI4MHB4IiB2aWV3Qm94PSIwIDAgODAgODAiIHZlcnNpb249IjEuMSIgeG1sbnM9Imh0dHA6Ly93d3cudzMub3JnLzIwMDAvc3ZnIiB4bWxuczp4bGluaz0iaHR0cDovL3d3dy53My5vcmcvMTk5OS94bGluayI+CiAgICA8IS0tIEdlbmVyYXRvcjogU2tldGNoIDU0LjEgKDc2NDkwKSAtIGh0dHBzOi8vc2tldGNoYXBwLmNvbSAtLT4KICAgIDx0aXRsZT5Hcm91cCAzPC90aXRsZT4KICAgIDxkZXNjPkNyZWF0ZWQgd2l0aCBTa2V0Y2guPC9kZXNjPgogICAgPGcgaWQ9IkxhbmRpbmciIHN0cm9rZT0ibm9uZSIgc3Ryb2tlLXdpZHRoPSIxIiBmaWxsPSJub25lIiBmaWxsLXJ1bGU9ImV2ZW5vZGQiPgogICAgICAgIDxnIGlkPSJBcnRib2FyZCIgdHJhbnNmb3JtPSJ0cmFuc2xhdGUoLTEyMzUuMDAwMDAwLCAtNzkuMDAwMDAwKSI+CiAgICAgICAgICAgIDxnIGlkPSJHcm91cC0zIiB0cmFuc2Zvcm09InRyYW5zbGF0ZSgxMjM1LjAwMDAwMCwgNzkuMDAwMDAwKSI+CiAgICAgICAgICAgICAgICA8cG9seWdvbiBpZD0iUGF0aC0yMCIgZmlsbD0iIzAyNjVCNCIgcG9pbnRzPSIyLjM3NjIzNzYyIDgwIDM4LjA0NzY2NjcgODAgNTcuODIxNzgyMiA3My44MDU3NTkyIDU3LjgyMTc4MjIgMzIuNzU5MjczOSAzOS4xNDAyMjc4IDMxLjY4MzE2ODMiPjwvcG9seWdvbj4KICAgICAgICAgICAgICAgIDxwYXRoIGQ9Ik0zNS4wMDc3MTgsODAgQzQyLjkwNjIwMDcsNzYuNDU0OTM1OCA0Ny41NjQ5MTY3LDcxLjU0MjI2NzEgNDguOTgzODY2LDY1LjI2MTk5MzkgQzUxLjExMjI4OTksNTUuODQxNTg0MiA0MS42NzcxNzk1LDQ5LjIxMjIyODQgMjUuNjIzOTg0Niw0OS4yMTIyMjg0IEMyNS40ODQ5Mjg5LDQ5LjEyNjg0NDggMjkuODI2MTI5Niw0My4yODM4MjQ4IDM4LjY0NzU4NjksMzEuNjgzMTY4MyBMNzIuODcxMjg3MSwzMi41NTQ0MjUgTDY1LjI4MDk3Myw2Ny42NzYzNDIxIEw1MS4xMTIyODk5LDc3LjM3NjE0NCBMMzUuMDA3NzE4LDgwIFoiIGlkPSJQYXRoLTIyIiBmaWxsPSIjMDAyODY4Ij48L3BhdGg+CiAgICAgICAgICAgICAgICA8cGF0aCBkPSJNMCwzNy43MzA0NDA1IEwyNy4xMTQ1MzcsMC4yNTcxMTE0MzYgQzYyLjM3MTUxMjMsLTEuOTkwNzE3MDEgODAsMTAuNTAwMzkyNyA4MCwzNy43MzA0NDA1IEM4MCw2NC45NjA0ODgyIDY0Ljc3NjUwMzgsNzkuMDUwMzQxNCAzNC4zMjk1MTEzLDgwIEM0Ny4wNTUzNDg5LDc3LjU2NzA4MDggNTMuNDE4MjY3Nyw3MC4zMTM2MTAzIDUzLjQxODI2NzcsNTguMjM5NTg4NSBDNTMuNDE4MjY3Nyw0MC4xMjg1NTU3IDM2LjMwMzk1NDQsMzcuNzMwNDQwNSAyNS4yMjc0MTcsMzcuNzMwNDQwNSBDMTcuODQzMDU4NiwzNy43MzA0NDA1IDkuNDMzOTE5NjYsMzcuNzMwNDQwNSAwLDM3LjczMDQ0MDUgWiIgaWQ9IlBhdGgtMTkiIGZpbGw9IiMzNzkzRUYiPjwvcGF0aD4KICAgICAgICAgICAgPC9nPgogICAgICAgIDwvZz4KICAgIDwvZz4KPC9zdmc+' > </img>\nCreated in <span style='font-weight:600;margin-left:4px;'>Deepnote</span></a>",
   "metadata": {
    "tags": [],
    "created_in_deepnote_cell": true,
    "deepnote_cell_type": "markdown"
   }
  }
 ],
 "nbformat": 4,
 "nbformat_minor": 2,
 "metadata": {
  "orig_nbformat": 2,
  "deepnote": {},
  "deepnote_notebook_id": "f2efb1d8-ecf0-4422-9cf5-1af1d9920c31",
  "deepnote_execution_queue": []
 }
}